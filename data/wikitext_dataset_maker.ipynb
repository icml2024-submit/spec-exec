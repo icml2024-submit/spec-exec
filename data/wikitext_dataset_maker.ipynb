{
 "cells": [
  {
   "cell_type": "markdown",
   "id": "36e33364-3e95-4288-83b8-95ddd6a65186",
   "metadata": {},
   "source": [
    "# wikitext dataset preparation"
   ]
  },
  {
   "cell_type": "code",
   "execution_count": 1,
   "id": "1d280200-b289-4bd4-92d2-fbece1af26de",
   "metadata": {
    "tags": []
   },
   "outputs": [
    {
     "name": "stdout",
     "output_type": "stream",
     "text": [
      "env: HF_HOME=/mnt/LLM\n",
      "env: OMP_NUM_THREADS=16\n",
      "env: MKL_NUM_THREADS=16\n"
     ]
    },
    {
     "data": {
      "text/html": [
       "<style>.container { width:100% !important; }</style>"
      ],
      "text/plain": [
       "<IPython.core.display.HTML object>"
      ]
     },
     "metadata": {},
     "output_type": "display_data"
    }
   ],
   "source": [
    "# %env HF_HOME=/mnt/LLM\n",
    "# %env CUDA_VISIBLE_DEVICES=1\n",
    "%env OMP_NUM_THREADS=16 \n",
    "%env MKL_NUM_THREADS=16 \n",
    "\n",
    "from IPython.display import display, HTML\n",
    "display(HTML(\"<style>.container { width:100% !important; }</style>\"))"
   ]
  },
  {
   "cell_type": "code",
   "execution_count": 2,
   "id": "de651f69-a9dc-430d-8930-c9cdcf32732b",
   "metadata": {
    "tags": []
   },
   "outputs": [],
   "source": [
    "import re\n",
    "import json\n",
    "from datasets import load_dataset"
   ]
  },
  {
   "cell_type": "code",
   "execution_count": 4,
   "id": "41028cbd-b2c8-4f7c-b66c-472cdfec1455",
   "metadata": {
    "tags": []
   },
   "outputs": [
    {
     "data": {
      "text/plain": [
       "36718"
      ]
     },
     "execution_count": 4,
     "metadata": {},
     "output_type": "execute_result"
    }
   ],
   "source": [
    "# loading dataset\n",
    "data = load_dataset(\"wikitext\", \"wikitext-2-raw-v1\", split=\"train\")  # choose test or train\n",
    "len(data['text'])"
   ]
  },
  {
   "cell_type": "code",
   "execution_count": 6,
   "id": "7d8ee608-201b-4790-a15e-9f512cd9a64e",
   "metadata": {
    "tags": []
   },
   "outputs": [
    {
     "data": {
      "text/plain": [
       "{'text': ['',\n",
       "  ' = Valkyria Chronicles III = \\n',\n",
       "  '',\n",
       "  ' Senjō no Valkyria 3 : Unrecorded Chronicles ( Japanese : 戦場のヴァルキュリア3 , lit . Valkyria of the Battlefield 3 ) , commonly referred to as Valkyria Chronicles III outside Japan , is a tactical role @-@ playing video game developed by Sega and Media.Vision for the PlayStation Portable . Released in January 2011 in Japan , it is the third game in the Valkyria series . Employing the same fusion of tactical and real @-@ time gameplay as its predecessors , the story runs parallel to the first game and follows the \" Nameless \" , a penal military unit serving the nation of Gallia during the Second Europan War who perform secret black operations and are pitted against the Imperial unit \" Calamaty Raven \" . \\n',\n",
       "  \" The game began development in 2010 , carrying over a large portion of the work done on Valkyria Chronicles II . While it retained the standard features of the series , it also underwent multiple adjustments , such as making the game more forgiving for series newcomers . Character designer Raita Honjou and composer Hitoshi Sakimoto both returned from previous entries , along with Valkyria Chronicles II director Takeshi Ozawa . A large team of writers handled the script . The game 's opening theme was sung by May 'n . \\n\",\n",
       "  \" It met with positive sales in Japan , and was praised by both Japanese and western critics . After release , it received downloadable content , along with an expanded edition in November of that year . It was also adapted into manga and an original video animation series . Due to low sales of Valkyria Chronicles II , Valkyria Chronicles III was not localized , but a fan translation compatible with the game 's expanded edition was released in 2014 . Media.Vision would return to the franchise with the development of Valkyria : Azure Revolution for the PlayStation 4 . \\n\"]}"
      ]
     },
     "execution_count": 6,
     "metadata": {},
     "output_type": "execute_result"
    }
   ],
   "source": [
    "# typical article heading - note the headers and empty lines\n",
    "data[:6]"
   ]
  },
  {
   "cell_type": "code",
   "execution_count": 7,
   "id": "9d194231-4373-47e9-b28d-7448c59d8749",
   "metadata": {
    "tags": []
   },
   "outputs": [
    {
     "name": "stdout",
     "output_type": "stream",
     "text": [
      "len(article_starts)=630\n",
      " = Valkyria Chronicles III = \n",
      " = Tower Building of the Little Rock Arsenal = \n",
      " = Cicely Mary Barker = \n"
     ]
    }
   ],
   "source": [
    "# finding articles based on \" = ARTICLE_TITLE = \\n\" title format\n",
    "\n",
    "article_starts = [i for i, line in enumerate(data['text']) if re.match(r\"^\\s=\\s\\w\", line)]\n",
    "article_starts.append(len(data['text']) + 1)\n",
    "print(f\"{len(article_starts)=}\")\n",
    "for i in range(3):\n",
    "    print(data['text'][article_starts[i]], end ='')"
   ]
  },
  {
   "cell_type": "code",
   "execution_count": 8,
   "id": "142453f7-0667-4773-9eee-8e78e5336dbf",
   "metadata": {
    "tags": []
   },
   "outputs": [
    {
     "data": {
      "text/plain": [
       "629"
      ]
     },
     "execution_count": 8,
     "metadata": {},
     "output_type": "execute_result"
    }
   ],
   "source": [
    "import random\n",
    "prompts = []\n",
    "\n",
    "for i in range(len(article_starts) - 1):\n",
    "    # get article text\n",
    "    text = '\\n'.join(data['text'][article_starts[i]: article_starts[i + 1]])\n",
    "    \n",
    "    # take first random number of characters\n",
    "    random_char_count = random.randint(1000, 1500)  # enter number limits here\n",
    "    prompt = text[:random_char_count]\n",
    "\n",
    "    # trimming at the last space\n",
    "    pattern = r'\\s+(?=[^\\s]*$)'\n",
    "    match = re.search(pattern, prompt)\n",
    "    prompt = prompt[:match.start()]\n",
    "    prompts.append(prompt)\n",
    "\n",
    "random.shuffle(prompts)\n",
    "\n",
    "len(prompts)"
   ]
  },
  {
   "cell_type": "code",
   "execution_count": 9,
   "id": "9a12c3ec-ef1b-4836-95eb-c4dd07d526f5",
   "metadata": {
    "tags": []
   },
   "outputs": [
    {
     "name": "stdout",
     "output_type": "stream",
     "text": [
      " = Jacob deGrom = \n",
      "\n",
      "\n",
      " Jacob Anthony deGrom ( born June 19 , 1988 ) , is an American professional baseball pitcher for the New York Mets of Major League Baseball ( MLB ) . Prior to playing professionally , deGrom attended Stetson University and played college baseball for the Stetson Hatters . \n",
      "\n",
      " DeGrom began playing baseball as a shortstop and was converted into a pitcher during his junior year at Stetson . The Mets selected him in the ninth round of the 2010 MLB Draft , and he made his MLB debut with the Mets on May 15 , 2014 . That year , deGrom was named the National League 's ( NL ) Rookie of the Month twice , and the NL Rookie of the Year . In 2015 , deGrom was selected as an MLB All @-@ Star . \n",
      "\n",
      "\n",
      " = = Amateur career = = \n",
      "\n",
      "\n",
      " DeGrom attended Calvary Christian Academy in Ormond Beach , Florida , where he played for the school 's baseball and basketball teams . As a senior , the Florida Sports Writers Association named deGrom to the All @-@ Florida second team . He also played American Legion baseball , where he was noticed by the coaches for the Stetson Hatters , the college baseball team of Stetson University . \n",
      "\n",
      " DeGrom was not selected in the Major League Baseball ( MLB ) Draft out of high\n",
      "--------------------------------------------------------------------------------\n",
      " = Jifna = \n",
      "\n",
      "\n",
      " Jifna ( Arabic : جفنا , Jifnâ ) is a Palestinian village in the Ramallah and al @-@ Bireh Governorate in the central West Bank , Palestine , located 8 kilometers ( 5 @.@ 0 mi ) north of Ramallah and 23 kilometers ( 14 mi ) north of Jerusalem . A village of about 1 @,@ 400 people , Jifna has retained a Christian majority since the 6th century CE . Its total land area consists of 6 @,@ 015 dunams , of which 420 are designated as built @-@ up areas , most of the remainder being covered with olive , fig and apricot groves . Jifna is governed by a village council , led ( 2008 ) by chairman Jabi Na 'im Kamil . \n",
      "\n",
      " Jifna was known as Gophnah ( In Hebrew גופנה ) at the time of the First Jewish @-@ Roman War , and after its conquest became a Roman regional capital . Later the town grew less significant politically , but nevertheless prospered under Byzantine and Arab rule due to its location on a trade route . St. George 's Church in Jifna was built in the 6th century CE , but fell into disrepair and was not rebuilt until the arrival of the\n",
      "--------------------------------------------------------------------------------\n",
      " = Leanne Del Toso = \n",
      "\n",
      "\n",
      " Leanne Del Toso ( born 12 August 1980 ) is a 3 @.@ 5 point wheelchair basketball player who represented Australia at the 2012 Summer Paralympics in London , where she won a silver medal . Diagnosed with chronic inflammatory demyelinating polyneuropathy at the age of nineteen , Del Toso started playing wheelchair basketball in 2006 . Playing in the local Victorian competition , she was named the league 's most valuable player in 2007 . That year started playing for the Knox Ford Raiders in the Women 's National Wheelchair Basketball League ( WNWBL ) . The following year , she was named the team 's Players ' Player and Most Valuable Player ( MVP ) . \n",
      "\n",
      " Del Toso has played for the Dandenong Rangers in the WNWBL since 2008 . In the semifinal between her Dandenong Rangers and the Goudkamp Gladiators in 2009 , she scored 31 points while pulling down 19 rebounds that saw the Rangers win 81 – 42 . The Dandenong Rangers won back to back titles in 2011 and 2012 . \n",
      "\n",
      " Del Toso made her debut with the Australia women 's national wheelchair basketball team , known as the Gliders , at the 2009 Osaka Cup in Japan . Since winning a silver medal in London , she has participated in the 2013 Osaka Cup in Japan , where the Gliders successfully defended\n",
      "--------------------------------------------------------------------------------\n"
     ]
    }
   ],
   "source": [
    "# print samples of resulting prompts\n",
    "for i in range(3):\n",
    "    print(prompts[i])\n",
    "    print('-' * 80)\n",
    "    # texts[0]"
   ]
  },
  {
   "cell_type": "code",
   "execution_count": 10,
   "id": "b11d243a-77fc-4c78-9bf4-768b43d361a1",
   "metadata": {
    "tags": []
   },
   "outputs": [],
   "source": [
    "save_path = \"./wikitext_prompts.json\"\n",
    "\n",
    "json_str = json.dumps([[i, p] for i, p in enumerate(prompts)])\n",
    "\n",
    "with open (save_path, \"w\") as t:\n",
    "    t.write(json_str)"
   ]
  },
  {
   "cell_type": "code",
   "execution_count": null,
   "id": "dd494e47-1a96-4ae6-aad9-4ae5131630cb",
   "metadata": {},
   "outputs": [],
   "source": []
  }
 ],
 "metadata": {
  "kernelspec": {
   "display_name": "py38",
   "language": "python",
   "name": "py38"
  },
  "language_info": {
   "codemirror_mode": {
    "name": "ipython",
    "version": 3
   },
   "file_extension": ".py",
   "mimetype": "text/x-python",
   "name": "python",
   "nbconvert_exporter": "python",
   "pygments_lexer": "ipython3",
   "version": "3.8.18"
  }
 },
 "nbformat": 4,
 "nbformat_minor": 5
}
